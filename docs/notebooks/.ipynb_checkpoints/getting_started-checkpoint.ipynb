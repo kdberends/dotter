{
 "cells": [
  {
   "cell_type": "markdown",
   "metadata": {},
   "source": [
    "# Getting started with dotter\n"
   ]
  },
  {
   "cell_type": "markdown",
   "metadata": {},
   "source": [
    "## Installation\n",
    "\n",
    "To install the dotter package, you will need:\n",
    "\n",
    "- a Python 3.6 installation. We recommend [Anaconda](https://www.anaconda.com/download/)\n",
    "- To install the development branch you will need [git](https://git-scm.com/downloads)\n",
    "\n",
    "### Install stable version\n",
    "There is no stable release yet. \n",
    "\n",
    "### Install development version\n",
    "The current development branch of dotter can be installed from GitHub using `pip`:\n",
    "\n",
    "```bash\n",
    "    pip install git+https://github.com/kdberends/dotter\n",
    "```"
   ]
  },
  {
   "cell_type": "markdown",
   "metadata": {},
   "source": [
    "## Notebook tutorials\n",
    "\n",
    "The dotter model is a basic quasi-stationary hydraulic solver meant for quick (hydraulic) analysis. It has a build-in friction module that allows for basic simulation of vegetation growth and analysis of the effect on water levels. \n",
    "\n",
    "See the following examples to see  \n",
    "\n",
    "- [Setting up your first simulation](basic_setup.ipynb)\n",
    "- [Analysis of vegetation growth, death](vegetation_growth.ipynb)\n",
    "- [Vegetation managament](vegetation_management.ipynb)\n",
    "- [Deterministic solving the inverse problem](inverse_problem.ipynb)\n"
   ]
  }
 ],
 "metadata": {
  "kernelspec": {
   "display_name": "Python 3",
   "language": "python",
   "name": "python3"
  },
  "language_info": {
   "codemirror_mode": {
    "name": "ipython",
    "version": 3
   },
   "file_extension": ".py",
   "mimetype": "text/x-python",
   "name": "python",
   "nbconvert_exporter": "python",
   "pygments_lexer": "ipython3",
   "version": "3.6.2"
  }
 },
 "nbformat": 4,
 "nbformat_minor": 2
}
