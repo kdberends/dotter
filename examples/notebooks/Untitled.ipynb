{
 "cells": [
  {
   "cell_type": "code",
   "execution_count": 22,
   "metadata": {},
   "outputs": [
    {
     "data": {
      "application/vnd.jupyter.widget-view+json": {
       "model_id": "061031ef1fe34add9c748ab3f91f5bac",
       "version_major": 2,
       "version_minor": 0
      },
      "text/html": [
       "<p>Failed to display Jupyter Widget of type <code>VBox</code>.</p>\n",
       "<p>\n",
       "  If you're reading this message in the Jupyter Notebook or JupyterLab Notebook, it may mean\n",
       "  that the widgets JavaScript is still loading. If this message persists, it\n",
       "  likely means that the widgets JavaScript library is either not installed or\n",
       "  not enabled. See the <a href=\"https://ipywidgets.readthedocs.io/en/stable/user_install.html\">Jupyter\n",
       "  Widgets Documentation</a> for setup instructions.\n",
       "</p>\n",
       "<p>\n",
       "  If you're reading this message in another frontend (for example, a static\n",
       "  rendering on GitHub or <a href=\"https://nbviewer.jupyter.org/\">NBViewer</a>),\n",
       "  it may mean that your frontend doesn't currently support widgets.\n",
       "</p>\n"
      ],
      "text/plain": [
       "VBox(children=(HTML(value='<h2>d:\\\\projecten\\\\dotter\\\\dotterdev\\\\dotter\\\\examples\\\\notebooks</h2>'), Button(description='..', style=ButtonStyle()), Button(description='.ipynb_checkpoints', style=ButtonStyle()), Button(description='images', style=ButtonStyle()), Button(description='dotter.log', style=ButtonStyle()), Button(description='frictionvalues.csv', style=ButtonStyle()), Button(description='ParameterEstimation.ipynb', style=ButtonStyle()), Button(description='Untitled.ipynb', style=ButtonStyle()), Button(description='VirtualRiver.ipynb', style=ButtonStyle())))"
      ]
     },
     "metadata": {},
     "output_type": "display_data"
    }
   ],
   "source": [
    "import os\n",
    "\n",
    "import ipywidgets as widgets\n",
    "\n",
    "\n",
    "class FileBrowser(object):\n",
    "    def __init__(self):\n",
    "        self.path = os.getcwd()\n",
    "        self._update_files()\n",
    "        \n",
    "    def _update_files(self):\n",
    "        self.files = list()\n",
    "        self.dirs = list()\n",
    "        if(os.path.isdir(self.path)):\n",
    "            for f in os.listdir(self.path):\n",
    "                ff = self.path + \"/\" + f\n",
    "                if os.path.isdir(ff):\n",
    "                    self.dirs.append(f)\n",
    "                else:\n",
    "                    self.files.append(f)\n",
    "        \n",
    "    def widget(self):\n",
    "        box = widgets.VBox()\n",
    "        self._update(box)\n",
    "        return box\n",
    "    \n",
    "    def _update(self, box):\n",
    "        \n",
    "        def on_click(b):\n",
    "            if b.description == '..':\n",
    "                self.path = os.path.split(self.path)[0]\n",
    "            else:\n",
    "                self.path = self.path + \"/\" + b.description\n",
    "            self._update_files()\n",
    "            self._update(box)\n",
    "        \n",
    "        buttons = []\n",
    "        if self.files:\n",
    "            button = widgets.Button(description='..', background_color='#d0d0ff')\n",
    "            button.on_click(on_click)\n",
    "            buttons.append(button)\n",
    "        for f in self.dirs:\n",
    "            button = widgets.Button(description=f, background_color='#d0d0ff')\n",
    "            button.on_click(on_click)\n",
    "            buttons.append(button)\n",
    "        for f in self.files:\n",
    "            button = widgets.Button(description=f)\n",
    "            button.on_click(on_click)\n",
    "            buttons.append(button)\n",
    "        box.children = tuple([widgets.HTML(\"<h2>%s</h2>\" % (self.path,))] + buttons)\n",
    "\n",
    "# example usage:\n",
    "f = FileBrowser()\n",
    "f.widget()"
   ]
  },
  {
   "cell_type": "code",
   "execution_count": 23,
   "metadata": {},
   "outputs": [
    {
     "data": {
      "text/plain": [
       "'d:\\\\projecten\\\\dotter\\\\dotterdev\\\\dotter\\\\examples\\\\notebooks'"
      ]
     },
     "execution_count": 23,
     "metadata": {},
     "output_type": "execute_result"
    }
   ],
   "source": [
    "\n",
    "#   <interact with widget, select a path>\n",
    "# in a separate cell:\n",
    "f.path # returns the selected path\n"
   ]
  },
  {
   "cell_type": "code",
   "execution_count": 24,
   "metadata": {},
   "outputs": [],
   "source": [
    "\n",
    "\n",
    "import base64\n",
    "\n",
    "try:\n",
    "    from io import StringIO\n",
    "except ImportError:\n",
    "    from StringIO import StringIO\n",
    "\n",
    "import pandas\n",
    "\n",
    "from traitlets import Unicode, Instance, observe\n",
    "from ipywidgets import DOMWidget\n",
    "from IPython import display\n",
    "\n"
   ]
  },
  {
   "cell_type": "code",
   "execution_count": 25,
   "metadata": {},
   "outputs": [
    {
     "data": {
      "text/html": [
       "<style>\n",
       "    .uploader-widget{\n",
       "        border: dashed 2px grey;\n",
       "        opacity: 0.5;\n",
       "        background-color: #efefef;\n",
       "        color: grey;\n",
       "        position: relative;\n",
       "    }\n",
       "    .uploader-widget.uploader-dragged {\n",
       "        background-color: #333;\n",
       "        color: white;\n",
       "    }\n",
       "    .uploader-widget input{\n",
       "        opacity: 0;\n",
       "        width: 100%;\n",
       "        position: absolute;\n",
       "        width: 100%;\n",
       "        height: 100%;\n",
       "        top: 0;\n",
       "    }\n",
       "    .uploader-widget h3 {\n",
       "        text-align: center;\n",
       "        margin: 0;\n",
       "        padding: 20px;\n",
       "    }\n",
       "</style>"
      ],
      "text/plain": [
       "<IPython.core.display.HTML object>"
      ]
     },
     "metadata": {},
     "output_type": "display_data"
    }
   ],
   "source": [
    "%%html\n",
    "<style>\n",
    "    .uploader-widget{\n",
    "        border: dashed 2px grey;\n",
    "        opacity: 0.5;\n",
    "        background-color: #efefef;\n",
    "        color: grey;\n",
    "        position: relative;\n",
    "    }\n",
    "    .uploader-widget.uploader-dragged {\n",
    "        background-color: #333;\n",
    "        color: white;\n",
    "    }\n",
    "    .uploader-widget input{\n",
    "        opacity: 0;\n",
    "        width: 100%;\n",
    "        position: absolute;\n",
    "        width: 100%;\n",
    "        height: 100%;\n",
    "        top: 0;\n",
    "    }\n",
    "    .uploader-widget h3 {\n",
    "        text-align: center;\n",
    "        margin: 0;\n",
    "        padding: 20px;\n",
    "    }\n",
    "</style>"
   ]
  },
  {
   "cell_type": "code",
   "execution_count": 26,
   "metadata": {},
   "outputs": [
    {
     "data": {
      "application/javascript": [
       "require.undef(\"widget-uploader\")\n",
       "define(\n",
       "\"widget-uploader\",\n",
       "[\n",
       "    \"underscore\",\n",
       "    \"jquery\",\n",
       "    \"nbextensions/widgets/widgets/js/widget\"\n",
       "],\n",
       "function(_, $, widget){\n",
       "    var UploaderView = widget.DOMWidgetView.extend({\n",
       "        className: \"uploader-widget\",\n",
       "        events: {\n",
       "            dragenter: \"onDragEnter\",\n",
       "            dragleave: \"onDragLeave\",\n",
       "            drop: \"onDrop\",\n",
       "            \"change input\": \"onChangeInput\"\n",
       "        },\n",
       "        \n",
       "        render: function(){\n",
       "            var that = this;\n",
       "\n",
       "            this.$label = $(\"<h3/>\").appendTo(this.$el);\n",
       "\n",
       "            this.$fileField = $(\"<input/>\", {type: \"file\"})\n",
       "                .appendTo(this.$el);\n",
       "\n",
       "            this.update();\n",
       "        },\n",
       "        onChangeInput: function(){\n",
       "            this.setFile(this.$fileField[0].files[0]);\n",
       "        },\n",
       "        setFile: function(file){\n",
       "            var reader  = new FileReader();\n",
       "\n",
       "            reader.addEventListener(\"load\", _.bind(function(){\n",
       "                this.model.set(\"base64_data\", reader.result);\n",
       "                this.touch();\n",
       "            }, this), false);\n",
       "\n",
       "            reader.readAsDataURL(file);\n",
       "        },\n",
       "        update: function() {\n",
       "            this.$label.text(this.model.get(\"label\"));\n",
       "        },\n",
       "                                                   \n",
       "        onDragEnter: function(evt){ this.$el.addClass(\"uploader-dragged\"); console.log(evt);},\n",
       "        onDragLeave: function(evt){ this.$el.removeClass(\"uploader-dragged\"); console.log(evt);},\n",
       "        onDrop: function(evt){\n",
       "            evt.preventDefault();\n",
       "            evt.stopImmediatePropagation();\n",
       "            this.$el.removeClass(\"uploader-dragged\");\n",
       "            console.log(evt);\n",
       "            this.setFile(evt.originalEvent.dataTransfer.files[0]);\n",
       "        }\n",
       "    });\n",
       "    return {\n",
       "        UploaderView: UploaderView\n",
       "    }\n",
       "});\n"
      ],
      "text/plain": [
       "<IPython.core.display.Javascript object>"
      ]
     },
     "metadata": {},
     "output_type": "display_data"
    }
   ],
   "source": [
    "\n",
    "\n",
    "%%javascript\n",
    "require.undef(\"widget-uploader\")\n",
    "define(\n",
    "\"widget-uploader\",\n",
    "[\n",
    "    \"underscore\",\n",
    "    \"jquery\",\n",
    "    \"nbextensions/widgets/widgets/js/widget\"\n",
    "],\n",
    "function(_, $, widget){\n",
    "    var UploaderView = widget.DOMWidgetView.extend({\n",
    "        className: \"uploader-widget\",\n",
    "        events: {\n",
    "            dragenter: \"onDragEnter\",\n",
    "            dragleave: \"onDragLeave\",\n",
    "            drop: \"onDrop\",\n",
    "            \"change input\": \"onChangeInput\"\n",
    "        },\n",
    "        \n",
    "        render: function(){\n",
    "            var that = this;\n",
    "\n",
    "            this.$label = $(\"<h3/>\").appendTo(this.$el);\n",
    "\n",
    "            this.$fileField = $(\"<input/>\", {type: \"file\"})\n",
    "                .appendTo(this.$el);\n",
    "\n",
    "            this.update();\n",
    "        },\n",
    "        onChangeInput: function(){\n",
    "            this.setFile(this.$fileField[0].files[0]);\n",
    "        },\n",
    "        setFile: function(file){\n",
    "            var reader  = new FileReader();\n",
    "\n",
    "            reader.addEventListener(\"load\", _.bind(function(){\n",
    "                this.model.set(\"base64_data\", reader.result);\n",
    "                this.touch();\n",
    "            }, this), false);\n",
    "\n",
    "            reader.readAsDataURL(file);\n",
    "        },\n",
    "        update: function() {\n",
    "            this.$label.text(this.model.get(\"label\"));\n",
    "        },\n",
    "                                                   \n",
    "        onDragEnter: function(evt){ this.$el.addClass(\"uploader-dragged\"); console.log(evt);},\n",
    "        onDragLeave: function(evt){ this.$el.removeClass(\"uploader-dragged\"); console.log(evt);},\n",
    "        onDrop: function(evt){\n",
    "            evt.preventDefault();\n",
    "            evt.stopImmediatePropagation();\n",
    "            this.$el.removeClass(\"uploader-dragged\");\n",
    "            console.log(evt);\n",
    "            this.setFile(evt.originalEvent.dataTransfer.files[0]);\n",
    "        }\n",
    "    });\n",
    "    return {\n",
    "        UploaderView: UploaderView\n",
    "    }\n",
    "});\n",
    "\n"
   ]
  },
  {
   "cell_type": "code",
   "execution_count": 27,
   "metadata": {},
   "outputs": [
    {
     "name": "stdout",
     "output_type": "stream",
     "text": [
      "BaseUploaderWidget()\n"
     ]
    }
   ],
   "source": [
    "\n",
    "\n",
    "class BaseUploaderWidget(DOMWidget):\n",
    "    _view_module = Unicode(\"widget-uploader\").tag(sync=True)\n",
    "    _view_name = Unicode(\"UploaderView\").tag(sync=True)\n",
    "    base64_data = Unicode().tag(sync=True)\n",
    "    label = Unicode(\"Upload a File\").tag(sync=True)\n",
    "    \n",
    "    @observe(\"base64_data\")\n",
    "    def _update_label(self, change):\n",
    "        self.label = self._label() or self.label\n",
    "    \n",
    "    def _label(self):\n",
    "        return \"{} bytes uploaded {}\".format(\n",
    "            len(self.base64_data),\n",
    "            self.base64_data.split(\";\")[0])\n",
    "\n",
    "uploader = BaseUploaderWidget()\n",
    "uploader\n",
    "print (uploader)\n"
   ]
  },
  {
   "cell_type": "code",
   "execution_count": 28,
   "metadata": {},
   "outputs": [],
   "source": [
    "class CSVUploader(BaseUploaderWidget):\n",
    "    dataframe = Instance(klass=pandas.DataFrame, allow_none=True)\n",
    "    label = Unicode(\"Upload a CSV File\").tag(sync=True)\n",
    "    \n",
    "    def _label(self):\n",
    "        self.label = \"{} rows by {} columns\".format(\n",
    "            len(self.dataframe),\n",
    "            len(self.dataframe.columns),\n",
    "        )\n",
    "\n",
    "    @observe(\"base64_data\")\n",
    "    def _update_dataframe(self, new):\n",
    "        csv = StringIO()\n",
    "        csv.write(u\"{}\".format(base64.decodestring(self.base64_data.split(\",\")[1])))\n",
    "        csv.seek(0)\n",
    "        self.dataframe = pandas.read_csv(csv)"
   ]
  },
  {
   "cell_type": "code",
   "execution_count": 29,
   "metadata": {},
   "outputs": [
    {
     "data": {
      "application/vnd.jupyter.widget-view+json": {
       "model_id": "9a024decdae94674becd207bba9ec649",
       "version_major": 2,
       "version_minor": 0
      },
      "text/html": [
       "<p>Failed to display Jupyter Widget of type <code>CSVUploader</code>.</p>\n",
       "<p>\n",
       "  If you're reading this message in the Jupyter Notebook or JupyterLab Notebook, it may mean\n",
       "  that the widgets JavaScript is still loading. If this message persists, it\n",
       "  likely means that the widgets JavaScript library is either not installed or\n",
       "  not enabled. See the <a href=\"https://ipywidgets.readthedocs.io/en/stable/user_install.html\">Jupyter\n",
       "  Widgets Documentation</a> for setup instructions.\n",
       "</p>\n",
       "<p>\n",
       "  If you're reading this message in another frontend (for example, a static\n",
       "  rendering on GitHub or <a href=\"https://nbviewer.jupyter.org/\">NBViewer</a>),\n",
       "  it may mean that your frontend doesn't currently support widgets.\n",
       "</p>\n"
      ],
      "text/plain": [
       "CSVUploader()"
      ]
     },
     "metadata": {},
     "output_type": "display_data"
    }
   ],
   "source": [
    "csv = CSVUploader()\n",
    "csv"
   ]
  },
  {
   "cell_type": "code",
   "execution_count": 30,
   "metadata": {},
   "outputs": [],
   "source": [
    "\n",
    "\n",
    "csv.dataframe\n",
    "\n"
   ]
  },
  {
   "cell_type": "code",
   "execution_count": null,
   "metadata": {},
   "outputs": [],
   "source": []
  }
 ],
 "metadata": {
  "kernelspec": {
   "display_name": "Python 3",
   "language": "python",
   "name": "python3"
  },
  "language_info": {
   "codemirror_mode": {
    "name": "ipython",
    "version": 3
   },
   "file_extension": ".py",
   "mimetype": "text/x-python",
   "name": "python",
   "nbconvert_exporter": "python",
   "pygments_lexer": "ipython3",
   "version": "3.6.2"
  }
 },
 "nbformat": 4,
 "nbformat_minor": 2
}
