{
 "cells": [
  {
   "cell_type": "markdown",
   "metadata": {
    "collapsed": true
   },
   "source": [
    "# Virtual River: hydraulic module\n",
    "\n",
    "<img src=\"images/rivercare_logo.jpg\">\n",
    "\n",
    "\n",
    "### Contact \n",
    "* R.J. den Haan (r.j.denhaan@utwente.nl) (Virtual River)\n",
    "* K.D. Berends (k.d.berends@utwente.nl) (Hydraulic module)\n"
   ]
  },
  {
   "cell_type": "code",
   "execution_count": 3,
   "metadata": {},
   "outputs": [
    {
     "name": "stderr",
     "output_type": "stream",
     "text": [
      "2018-04-06 22:30:48 - models.py - INFO - Loading configuration file ../cases/virtualriver/config.ini\n",
      "2018-04-06 22:30:48 - models.py - INFO - Loading geometry from ../cases/virtualriver\\VirtualRiver.xlsx\n",
      "2018-04-06 22:30:50 - models.py - INFO - Loading boundary conditions\n",
      "2018-04-06 22:30:50 - containers.py - INFO - interpolating boundaries to grid\n",
      "2018-04-06 22:30:50 - models.py - INFO - Building friction matrix\n",
      "2018-04-06 22:30:50 - models.py - INFO - set output path to: ../cases/virtualriver\\output\n",
      "2018-04-06 22:30:50 - models.py - INFO - Initialised\n",
      "2018-04-06 22:30:50 - models.py - INFO - Loading configuration file ../cases/virtualriver/config_intervention01.ini\n",
      "2018-04-06 22:30:50 - models.py - INFO - Loading geometry from ../cases/virtualriver\\VirtualRiver_intervention01.xlsx\n",
      "2018-04-06 22:30:52 - models.py - INFO - Loading boundary conditions\n",
      "2018-04-06 22:30:52 - containers.py - INFO - interpolating boundaries to grid\n",
      "2018-04-06 22:30:52 - models.py - INFO - Building friction matrix\n",
      "2018-04-06 22:30:52 - models.py - INFO - set output path to: ../cases/virtualriver\\output\n",
      "2018-04-06 22:30:52 - models.py - INFO - Initialised\n"
     ]
    },
    {
     "data": {
      "application/vnd.jupyter.widget-view+json": {
       "model_id": "1b2543e7940b4d08a889af8fcfb6fb5e",
       "version_major": 2,
       "version_minor": 0
      },
      "text/html": [
       "<p>Failed to display Jupyter Widget of type <code>HBox</code>.</p>\n",
       "<p>\n",
       "  If you're reading this message in the Jupyter Notebook or JupyterLab Notebook, it may mean\n",
       "  that the widgets JavaScript is still loading. If this message persists, it\n",
       "  likely means that the widgets JavaScript library is either not installed or\n",
       "  not enabled. See the <a href=\"https://ipywidgets.readthedocs.io/en/stable/user_install.html\">Jupyter\n",
       "  Widgets Documentation</a> for setup instructions.\n",
       "</p>\n",
       "<p>\n",
       "  If you're reading this message in another frontend (for example, a static\n",
       "  rendering on GitHub or <a href=\"https://nbviewer.jupyter.org/\">NBViewer</a>),\n",
       "  it may mean that your frontend doesn't currently support widgets.\n",
       "</p>\n"
      ],
      "text/plain": [
       "HBox(children=(VBox(children=(IntSlider(value=0, continuous_update=False, description='Section 1', max=4, style=SliderStyle(handle_color='forestgreen')), IntSlider(value=0, continuous_update=False, description='Section 2', max=4, style=SliderStyle(handle_color='crimson')), IntSlider(value=0, continuous_update=False, description='Section 3', max=4, style=SliderStyle(handle_color='forestgreen')), IntSlider(value=0, continuous_update=False, description='Section 4', max=4, style=SliderStyle(handle_color='crimson')), IntSlider(value=0, continuous_update=False, description='Section 5', max=4, style=SliderStyle(handle_color='cadetblue')), IntSlider(value=0, continuous_update=False, description='Section 6', max=4, style=SliderStyle(handle_color='crimson')), IntSlider(value=0, continuous_update=False, description='Section 7', max=4, style=SliderStyle(handle_color='forestgreen')), IntSlider(value=0, continuous_update=False, description='Section 8', max=4, style=SliderStyle(handle_color='forestgreen')), IntSlider(value=0, continuous_update=False, description='Section 9', max=4, style=SliderStyle(handle_color='crimson')), IntSlider(value=0, continuous_update=False, description='Section 10', max=4, style=SliderStyle(handle_color='cadetblue')))), VBox(children=(IntSlider(value=0, continuous_update=False, description='Section 11', max=4, style=SliderStyle(handle_color='cadetblue')), IntSlider(value=0, continuous_update=False, description='Section 12', max=4, style=SliderStyle(handle_color='forestgreen')), IntSlider(value=0, continuous_update=False, description='Section 13', max=4, style=SliderStyle(handle_color='crimson')), IntSlider(value=0, continuous_update=False, description='Section 14', max=4, style=SliderStyle(handle_color='cadetblue')), IntSlider(value=0, continuous_update=False, description='Section 15', max=4, style=SliderStyle(handle_color='forestgreen')), IntSlider(value=0, continuous_update=False, description='Section 16', max=4, style=SliderStyle(handle_color='crimson')), IntSlider(value=0, continuous_update=False, description='Section 17', max=4, style=SliderStyle(handle_color='azure')), IntSlider(value=0, continuous_update=False, description='Section 18', max=4, style=SliderStyle(handle_color='azure')), IntSlider(value=0, continuous_update=False, description='Section 19', max=4, style=SliderStyle(handle_color='azure')), IntSlider(value=0, continuous_update=False, description='Section 20', max=4, style=SliderStyle(handle_color='hotpink'))))))"
      ]
     },
     "metadata": {},
     "output_type": "display_data"
    },
    {
     "data": {
      "application/vnd.jupyter.widget-view+json": {
       "model_id": "4472e2702a2f468a8b15f7a65b7fc88d",
       "version_major": 2,
       "version_minor": 0
      },
      "text/html": [
       "<p>Failed to display Jupyter Widget of type <code>Output</code>.</p>\n",
       "<p>\n",
       "  If you're reading this message in the Jupyter Notebook or JupyterLab Notebook, it may mean\n",
       "  that the widgets JavaScript is still loading. If this message persists, it\n",
       "  likely means that the widgets JavaScript library is either not installed or\n",
       "  not enabled. See the <a href=\"https://ipywidgets.readthedocs.io/en/stable/user_install.html\">Jupyter\n",
       "  Widgets Documentation</a> for setup instructions.\n",
       "</p>\n",
       "<p>\n",
       "  If you're reading this message in another frontend (for example, a static\n",
       "  rendering on GitHub or <a href=\"https://nbviewer.jupyter.org/\">NBViewer</a>),\n",
       "  it may mean that your frontend doesn't currently support widgets.\n",
       "</p>\n"
      ],
      "text/plain": [
       "Output()"
      ]
     },
     "metadata": {},
     "output_type": "display_data"
    }
   ],
   "source": [
    "%matplotlib notebook\n",
    "from ipywidgets import interact, interactive, interact_manual, IntSlider, Layout, VBox, HBox, interactive_output\n",
    "from dotter.models import DotterModel\n",
    "from dotter import utils, settings\n",
    "import numpy as np\n",
    "from collections import OrderedDict\n",
    "import matplotlib.pyplot as plt\n",
    "\n",
    "#from jupyterthemes import get_themes\n",
    "#import jupyterthemes as jt\n",
    "#from jupyterthemes.stylefx import set_nb_theme\n",
    "#set_nb_theme('onedork')\n",
    "\n",
    "# Load configuration files\n",
    "vr = DotterModel('../cases/virtualriver/config.ini', loggerlevel='info')\n",
    "\n",
    "# Covariance matrix\n",
    "CV = np.loadtxt('../cases/virtualriver/covariance_matrix.csv', delimiter=',')\n",
    "SECTIONS = np.array([0.03] * 20)\n",
    "\n",
    "# Next, we define a function that calls and plots the system, given the relative roughness of each section:\n",
    "vr.run(timesteps=[vr.grid.time[0]], progressbar=False)\n",
    "BASELINE = vr.output.waterlevel.iloc[0, :].copy()\n",
    "\n",
    "# Create clone system that is altered\n",
    "vr = DotterModel('../cases/virtualriver/config_intervention01.ini', loggerlevel='silent')\n",
    "\n",
    "# Virtual river function\n",
    "VRIVER = vr\n",
    "def virtual_river(**kwargs):\n",
    "    localvr = VRIVER\n",
    "    for i, (sec, value) in enumerate(kwargs.items()):\n",
    "        SECTIONS[i] = value *0.025 + 0.03 \n",
    "    \n",
    "    \n",
    "    newfric = np.interp(vr.grid.chainage, vr.grid.samples.X.T[0], np.dot(SECTIONS, CV))\n",
    "\n",
    "    vr.grid.friction[:] = np.tile(newfric, (len(vr.grid.time), 1))\n",
    "    \n",
    "    vr.run(timesteps=[vr.grid.time[0]], progressbar=False)\n",
    "\n",
    "    fig, ax = plt.subplots(1, figsize=(10, 4))\n",
    "    ax.plot(vr.grid.chainage, vr.output.waterlevel.iloc[0, :]-BASELINE)\n",
    "    ax.plot(vr.grid.chainage, vr.grid.chainage ** 0 - 1 + 0.05, '--', color='g', label='Safe')\n",
    "    ax.plot(vr.grid.chainage, vr.grid.chainage ** 0 - 1 + 0.2, '--', color='darkorange', label='Warning')\n",
    "    ax.plot(vr.grid.chainage, vr.grid.chainage ** 0 - 1 + 0.25, '--', color='r', label='Critical')\n",
    "    ax.set_ylim([-0.5, 0.5])\n",
    "    ax.legend()\n",
    "    settings.gridbox_style(ax)\n",
    "\n",
    "# Interactive app\n",
    "interactive_sections = OrderedDict()\n",
    "for i in range(20):\n",
    "    interactive_sections[\"section{:02d}\".format(i)] = IntSlider(min=0,\n",
    "                                                                max=4, \n",
    "                                                                continuous_update=False, \n",
    "                                                                description='Section {}'.format(i+1), \n",
    "                                                                )\n",
    "\n",
    "# Water manager sections\n",
    "for i in [5, 10, 11, 14]:\n",
    "    interactive_sections[\"section{:02d}\".format(i-1)].style.handle_color = 'cadetblue'\n",
    "\n",
    "# Eco-manager sections\n",
    "for i in [1, 3, 7, 8, 12, 15]:\n",
    "    interactive_sections[\"section{:02d}\".format(i-1)].style.handle_color = 'forestgreen'\n",
    "\n",
    "# Provincial manager\n",
    "for i in [2, 4, 6, 9, 13, 16]:\n",
    "    interactive_sections[\"section{:02d}\".format(i-1)].style.handle_color = 'crimson'\n",
    "\n",
    "# Inactive\n",
    "for i in [17, 18, 19]:\n",
    "    interactive_sections[\"section{:02d}\".format(i-1)].style.handle_color = 'azure'\n",
    "\n",
    "# Riverbed\n",
    "for i in [20]:\n",
    "    interactive_sections[\"section{:02d}\".format(i-1)].style.handle_color = 'hotpink'\n",
    "    \n",
    "# Create gridded button interface\n",
    "left_column = list()\n",
    "right_column = list()\n",
    "\n",
    "for i in range(10):\n",
    "    left_column.append(interactive_sections[\"section{:02d}\".format(i)])\n",
    "    right_column.append(interactive_sections[\"section{:02d}\".format(i+10)])\n",
    "\n",
    "ui = HBox([VBox(left_column), VBox(right_column)])\n",
    "\n",
    "out = interactive_output(virtual_river, interactive_sections)\n",
    "display(ui, out)"
   ]
  }
 ],
 "metadata": {
  "anaconda-cloud": {},
  "kernelspec": {
   "display_name": "Python 3",
   "language": "python",
   "name": "python3"
  },
  "language_info": {
   "codemirror_mode": {
    "name": "ipython",
    "version": 3
   },
   "file_extension": ".py",
   "mimetype": "text/x-python",
   "name": "python",
   "nbconvert_exporter": "python",
   "pygments_lexer": "ipython3",
   "version": "3.6.2"
  }
 },
 "nbformat": 4,
 "nbformat_minor": 2
}
