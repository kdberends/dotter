{
 "cells": [
  {
   "cell_type": "markdown",
   "metadata": {
    "collapsed": true
   },
   "source": [
    "# Virtual River: hydraulic module\n",
    "\n",
    "<img src=\"images/rivercare_logo.jpg\">\n",
    "\n",
    "This notebook contains the interface to the Virtual River hydraulic module. The Virtual River is a serious game developed within the RiverCare research programme. This notebook requires a Python 3.6 kernel with ipywidgets version 0.7 or higher. The hydraulic module is build with the \"Dotter model\" developed by Deltares.\n",
    "\n",
    "### Contact \n",
    "* R.J. den Haan (r.j.denhaan@utwente.nl) (Virtual River)\n",
    "* K.D. Berends (k.d.berends@utwente.nl) (Hydraulic module)\n"
   ]
  },
  {
   "cell_type": "code",
   "execution_count": 1,
   "metadata": {},
   "outputs": [
    {
     "name": "stderr",
     "output_type": "stream",
     "text": [
      "2018-04-06 10:25:07 - utils.py - INFO - Start logging to d:\\Projecten\\dotter\\dotterdev\\dotter\\examples\\notebooks\\dotter.log\n",
      "2018-04-06 10:25:07 - settings.py - INFO - test\n"
     ]
    }
   ],
   "source": [
    "%matplotlib notebook\n",
    "from ipywidgets import interact, interactive, interact_manual, IntSlider, Layout, VBox, HBox, interactive_output\n",
    "from dotter.models import DotterModel\n",
    "from dotter import utils, settings\n",
    "import numpy as np\n",
    "from collections import OrderedDict\n",
    "import matplotlib.pyplot as plt"
   ]
  },
  {
   "cell_type": "markdown",
   "metadata": {},
   "source": [
    "# Setting up the system\n",
    "\n",
    "We load the river system from Dotter configuration files. Additionally, we need a list of sections and a covariance matrix that describes the relative input of each section on the roughness at locations along the river.\n"
   ]
  },
  {
   "cell_type": "code",
   "execution_count": 2,
   "metadata": {
    "scrolled": true
   },
   "outputs": [
    {
     "name": "stderr",
     "output_type": "stream",
     "text": [
      "2018-04-06 10:25:08 - models.py - INFO - Loading configuration file ../cases/virtualriver/config.ini\n",
      "2018-04-06 10:25:08 - models.py - INFO - Loading geometry from ../cases/virtualriver\\VirtualRiver.xlsx\n",
      "2018-04-06 10:25:10 - models.py - INFO - Loading boundary conditions\n",
      "2018-04-06 10:25:10 - containers.py - INFO - interpolating boundaries to grid\n",
      "2018-04-06 10:25:10 - models.py - INFO - Building friction matrix\n",
      "2018-04-06 10:25:10 - models.py - INFO - set output path to: ../cases/virtualriver\\output\n",
      "2018-04-06 10:25:10 - models.py - INFO - Initialised\n",
      "2018-04-06 10:25:10 - models.py - INFO - Loading configuration file ../cases/virtualriver/config_intervention01.ini\n",
      "2018-04-06 10:25:10 - models.py - INFO - Loading geometry from ../cases/virtualriver\\VirtualRiver_intervention01.xlsx\n",
      "2018-04-06 10:25:12 - models.py - INFO - Loading boundary conditions\n",
      "2018-04-06 10:25:12 - containers.py - INFO - interpolating boundaries to grid\n",
      "2018-04-06 10:25:12 - models.py - INFO - Building friction matrix\n",
      "2018-04-06 10:25:12 - models.py - INFO - set output path to: ../cases/virtualriver\\output\n",
      "2018-04-06 10:25:12 - models.py - INFO - Initialised\n"
     ]
    }
   ],
   "source": [
    "# Load configuration files\n",
    "vr = DotterModel('../cases/virtualriver/config.ini', loggerlevel='info')\n",
    "\n",
    "# Covariance matrix\n",
    "CV = np.loadtxt('../cases/virtualriver/covariance_matrix.csv', delimiter=',')\n",
    "SECTIONS = np.array([0.03] * 20)\n",
    "\n",
    "# Next, we define a function that calls and plots the system, given the relative roughness of each section:\n",
    "vr.run(timesteps=[vr.grid.time[0]], progressbar=False)\n",
    "BASELINE = vr.output.waterlevel.iloc[0, :].copy()\n",
    "\n",
    "# Create clone system that is altered\n",
    "vr = DotterModel('../cases/virtualriver/config_intervention01.ini', loggerlevel='silent')"
   ]
  },
  {
   "cell_type": "markdown",
   "metadata": {},
   "source": [
    "# Virtual river functions\n",
    "\n",
    "We load the river system from Dotter configuration files. Additionally, we need a list of sections and a covariance matrix that describes the relative input of each section on the roughness at locations along the river.\n"
   ]
  },
  {
   "cell_type": "code",
   "execution_count": 4,
   "metadata": {},
   "outputs": [],
   "source": [
    "VRIVER = vr\n",
    "def virtual_river(**kwargs):\n",
    "    localvr = VRIVER\n",
    "    for i, (sec, value) in enumerate(kwargs.items()):\n",
    "        SECTIONS[i] = value *0.025 + 0.03 \n",
    "    \n",
    "    \n",
    "    newfric = np.interp(vr.grid.chainage, vr.grid.samples.X.T[0], np.dot(SECTIONS, CV))\n",
    "\n",
    "    vr.grid.friction[:] = np.tile(newfric, (len(vr.grid.time), 1))\n",
    "    \n",
    "    vr.run(timesteps=[vr.grid.time[0]], progressbar=False)\n",
    "\n",
    "    fig, ax = plt.subplots(1, figsize=(10, 4))\n",
    "    ax.plot(vr.grid.chainage, vr.output.waterlevel.iloc[0, :]-BASELINE)\n",
    "    ax.plot(vr.grid.chainage, vr.grid.chainage ** 0 - 1 + 0.05, '--', color='g', label='Safe')\n",
    "    ax.plot(vr.grid.chainage, vr.grid.chainage ** 0 - 1 + 0.2, '--', color='darkorange', label='Warning')\n",
    "    ax.plot(vr.grid.chainage, vr.grid.chainage ** 0 - 1 + 0.25, '--', color='r', label='Critical')\n",
    "    ax.set_ylim([-0.5, 0.5])\n",
    "    ax.legend()\n",
    "    settings.gridbox_style(ax)\n",
    "\n",
    "    "
   ]
  },
  {
   "cell_type": "markdown",
   "metadata": {},
   "source": []
  },
  {
   "cell_type": "code",
   "execution_count": null,
   "metadata": {},
   "outputs": [],
   "source": [
    "interactive_sections = OrderedDict()\n",
    "for i in range(20):\n",
    "    interactive_sections[\"section{:02d}\".format(i)] = IntSlider(min=0,\n",
    "                                                                max=4, \n",
    "                                                                continuous_update=False, \n",
    "                                                                description='Section {}'.format(i+1), \n",
    "                                                                )\n",
    "\n",
    "# Water manager sections\n",
    "for i in [5, 10, 11, 14]:\n",
    "    interactive_sections[\"section{:02d}\".format(i-1)].style.handle_color = 'cadetblue'\n",
    "\n",
    "# Eco-manager sections\n",
    "for i in [1, 3, 7, 8, 12, 15]:\n",
    "    interactive_sections[\"section{:02d}\".format(i-1)].style.handle_color = 'forestgreen'\n",
    "\n",
    "# Provincial manager\n",
    "for i in [2, 4, 6, 9, 13, 16]:\n",
    "    interactive_sections[\"section{:02d}\".format(i-1)].style.handle_color = 'crimson'\n",
    "\n",
    "# Inactive\n",
    "for i in [17, 18, 19]:\n",
    "    interactive_sections[\"section{:02d}\".format(i-1)].style.handle_color = 'azure'\n",
    "\n",
    "# Riverbed\n",
    "for i in [20]:\n",
    "    interactive_sections[\"section{:02d}\".format(i-1)].style.handle_color = 'hotpink'\n",
    "    \n",
    "# Create gridded button interface\n",
    "left_column = list()\n",
    "right_column = list()\n",
    "\n",
    "for i in range(10):\n",
    "    left_column.append(interactive_sections[\"section{:02d}\".format(i)])\n",
    "    right_column.append(interactive_sections[\"section{:02d}\".format(i+10)])\n",
    "\n",
    "ui = HBox([VBox(left_column), VBox(right_column)])\n",
    "\n",
    "out = interactive_output(virtual_river, interactive_sections)\n",
    "display(ui, out)"
   ]
  },
  {
   "cell_type": "code",
   "execution_count": null,
   "metadata": {},
   "outputs": [],
   "source": []
  },
  {
   "cell_type": "code",
   "execution_count": null,
   "metadata": {},
   "outputs": [],
   "source": []
  }
 ],
 "metadata": {
  "anaconda-cloud": {},
  "kernelspec": {
   "display_name": "Python [conda env:python36]",
   "language": "python",
   "name": "conda-env-python36-py"
  },
  "language_info": {
   "codemirror_mode": {
    "name": "ipython",
    "version": 3
   },
   "file_extension": ".py",
   "mimetype": "text/x-python",
   "name": "python",
   "nbconvert_exporter": "python",
   "pygments_lexer": "ipython3",
   "version": "3.6.2"
  }
 },
 "nbformat": 4,
 "nbformat_minor": 2
}
